{
 "cells": [
  {
   "cell_type": "markdown",
   "metadata": {},
   "source": [
    "# Homework 6 RF Accuracy Improvement\n",
    "\n",
    "This assignment is inspired by examples of Shan-Hung Wu from National Tsing Hua University.\n",
    "\n",
    "Requirement: improve the accuracy per feature of the following code from 0.03 up to at least 0.40 and accuracy should be more than 0.92\n",
    "\n",
    "Here are three hints:\n",
    "\n",
    "    You can improve the ratio by picking out or \"creating\" several features.\n",
    "    Tune hyperparameters\n",
    "    The ratio can be improved from 0.03 up to 0.47."
   ]
  },
  {
   "cell_type": "code",
   "execution_count": 15,
   "metadata": {},
   "outputs": [
    {
     "name": "stdout",
     "output_type": "stream",
     "text": [
      "(569, 30)\n",
      "Initial Accuracy:\n",
      "Accuracy: 0.98\n",
      "Accuracy per feature: 0.03\n",
      "\n",
      "Accuracy after tuning:\n",
      "Accuracy: 0.92\n",
      "Accuracy per feature: 0.46\n"
     ]
    }
   ],
   "source": [
    "# Sklearn Imports\n",
    "from sklearn.model_selection import train_test_split\n",
    "from sklearn.datasets import load_breast_cancer\n",
    "from sklearn.metrics import accuracy_score\n",
    "from sklearn.ensemble import RandomForestClassifier\n",
    "from sklearn.model_selection import GridSearchCV\n",
    "from sklearn.feature_selection import SelectFromModel\n",
    "import pandas as pd\n",
    "import seaborn as sns\n",
    "\n",
    "# load the breast_cancer dataset\n",
    "init_data = load_breast_cancer()\n",
    "(X, y) = load_breast_cancer(return_X_y=True)\n",
    "\n",
    "print(X.shape)\n",
    "\n",
    "# TODO Select some features (X), hint: based on the connections with\n",
    "# our Y (importance? correlation?)\n",
    "# TODO need 5 fold cross validation\n",
    "X_train, X_test, y_train, y_test = train_test_split(X, y, test_size = 0.3, random_state=0)\n",
    "\n",
    "# TODO Tune parameters for RandomForestClassifier\n",
    "rForest = RandomForestClassifier(criterion='entropy',n_estimators=200,random_state=1,n_jobs=2)\n",
    "rForest.fit(X_train, y_train)\n",
    "y_pred = rForest.predict(X_test)\n",
    "\n",
    "# TODO train and generate prediction\n",
    "model = SelectFromModel(rForest, threshold=0.1176) \n",
    "model.fit(X_train, y_train)\n",
    "X_train_imp = model.transform(X_train)\n",
    "X_test_imp = model.transform(X_test)\n",
    "\n",
    "# TODO Tune parameters for RandomForestClassifier\n",
    "forest_imp = RandomForestClassifier(criterion = 'entropy', n_estimators=200, random_state=1, n_jobs=2, max_depth=1)\n",
    "forest_imp.fit(X_train_imp, y_train)\n",
    "\n",
    "y_pred_imp = forest_imp.predict(X_test_imp)\n",
    "\n",
    "print('Initial Accuracy:')\n",
    "# TODO Calculate Average accuracy score\n",
    "print('Accuracy: %.2f' % accuracy_score(y_test, y_pred))\n",
    "# TODO Calculate Average (accuracy score/number of features)\n",
    "print('Accuracy per feature: %.2f' % (accuracy_score(y_test, y_pred)/X.shape[1]))\n",
    "\n",
    "print('\\nAccuracy after tuning:')\n",
    "# TODO Calculate Average accuracy score\n",
    "print('Accuracy: %.2f' % accuracy_score(y_test, y_pred_imp))\n",
    "# TODO Calculate Average (accuracy score/number of features)\n",
    "print('Accuracy per feature: %.2f' % (accuracy_score(y_test, y_pred_imp)/X_test_imp.shape[1]))"
   ]
  }
 ],
 "metadata": {
  "kernelspec": {
   "display_name": "Python 3",
   "language": "python",
   "name": "python3"
  },
  "language_info": {
   "codemirror_mode": {
    "name": "ipython",
    "version": 3
   },
   "file_extension": ".py",
   "mimetype": "text/x-python",
   "name": "python",
   "nbconvert_exporter": "python",
   "pygments_lexer": "ipython3",
   "version": "3.6.5"
  }
 },
 "nbformat": 4,
 "nbformat_minor": 2
}
